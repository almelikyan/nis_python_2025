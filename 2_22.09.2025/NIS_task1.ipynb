{
 "cells": [
  {
   "cell_type": "markdown",
   "metadata": {},
   "source": [
    "\n",
    "# Практическое задание №1"
   ]
  },
  {
   "cell_type": "markdown",
   "metadata": {},
   "source": [
    "Проанализируйте данные о вакансиях на глобальном рынке труда в сфере ИИ в 2025 году.\n",
    "\n",
    "[Источник](https://www.kaggle.com/datasets/bismasajjad/global-ai-job-market-and-salary-trends-2025)\n",
    "\n",
    "В файле `ai_job_dataset.csv` содержаться следующие переменные:\n",
    "\n",
    "\n",
    "- job_id: Unique identifier for each job posting\n",
    "- job_title: Standardized job title\t\n",
    "- salary_usd:\tAnnual salary in USD\t\n",
    "- salary_currency:\tOriginal salary currency\t\n",
    "- salary_local:\tSalary in local currency\t\n",
    "- experience_level:\tEN (Entry), MI (Mid), SE (Senior), EX (Executive)\t\n",
    "- employment_type:\tFT (Full-time), PT (Part-time), CT (Contract), FL (Freelance)\t\n",
    "- company_location:\tCountry where company is located\t\n",
    "- company_size:\tS (Small <50), M (Medium 50-250), L (Large >250)\t\n",
    "- employee_residence:\tCountry where employee resides\t\n",
    "- remote_ratio:\t0 (No remote), 50 (Hybrid), 100 (Fully remote)\t\n",
    "- required_skills:\tTop 5 required skills (comma-separated)\t\n",
    "- education_required:\tMinimum education requirement\t\n",
    "- years_experience:\tRequired years of experience\t\n",
    "- industry:\tIndustry sector of the company\t\n",
    "- posting_date:\tDate when job was posted\t\n",
    "- application_deadline:\tApplication deadline\t\n",
    "- job_description_length:\tCharacter count of job description\t\n",
    "- benefits_score:\tNumerical score of benefits package (1-10)\t"
   ]
  },
  {
   "cell_type": "markdown",
   "metadata": {},
   "source": [
    "1. Опишите датасет (число наблюдений и переменных, пропущенных значений, типы данных, типы шкал переменных)."
   ]
  },
  {
   "cell_type": "code",
   "execution_count": 20,
   "metadata": {},
   "outputs": [],
   "source": [
    "# код здесь  ≽^•⩊•^≼ "
   ]
  },
  {
   "cell_type": "markdown",
   "metadata": {},
   "source": [
    "2. Отобразите первые пять строк и последние три строки датасета."
   ]
  },
  {
   "cell_type": "code",
   "execution_count": 21,
   "metadata": {},
   "outputs": [],
   "source": [
    "# код здесь (˶ᵔ ᵕ ᵔ˶)"
   ]
  },
  {
   "cell_type": "markdown",
   "metadata": {},
   "source": [
    "3. Установите идентификатор вакансии (job_id) как индекс строк."
   ]
  },
  {
   "cell_type": "code",
   "execution_count": 22,
   "metadata": {},
   "outputs": [],
   "source": [
    "# код здесь ♡‧₊˚✧ ૮ ˶ᵔ ᵕ ᵔ˶ ა ✧˚₊‧♡"
   ]
  },
  {
   "cell_type": "markdown",
   "metadata": {},
   "source": [
    "4. Выведите список названий столбцов таблицы."
   ]
  },
  {
   "cell_type": "code",
   "execution_count": 23,
   "metadata": {},
   "outputs": [],
   "source": [
    "# код здесь (ᵔ◡ᵔ)"
   ]
  },
  {
   "cell_type": "markdown",
   "metadata": {},
   "source": [
    "5. Выведите информацию о проценте непустых ячеек в каждом столбце."
   ]
  },
  {
   "cell_type": "code",
   "execution_count": 24,
   "metadata": {},
   "outputs": [],
   "source": [
    "# код здесь ☆ﾟ.*･｡ﾟ"
   ]
  },
  {
   "cell_type": "markdown",
   "metadata": {},
   "source": [
    "6. Выведите описательные статистики по столбцам, содержащим количественные данные."
   ]
  },
  {
   "cell_type": "code",
   "execution_count": 25,
   "metadata": {},
   "outputs": [],
   "source": [
    "# код здесь (..＞◡＜..)"
   ]
  },
  {
   "cell_type": "markdown",
   "metadata": {},
   "source": [
    "7. Переименуйте столбец \"industry\" в \"industry_comp\"."
   ]
  },
  {
   "cell_type": "code",
   "execution_count": 26,
   "metadata": {},
   "outputs": [],
   "source": [
    "# код здесь /ᐠ｡‸｡ᐟ\\"
   ]
  },
  {
   "cell_type": "markdown",
   "metadata": {},
   "source": [
    "8. Выведите столбцы, характеризующие вознаграждение за работу."
   ]
  },
  {
   "cell_type": "code",
   "execution_count": 27,
   "metadata": {},
   "outputs": [],
   "source": [
    "# код здесь (◕^^◕)"
   ]
  },
  {
   "cell_type": "markdown",
   "metadata": {},
   "source": [
    "9. Выведите название позиции для вакансии с идентификатором AI00056."
   ]
  },
  {
   "cell_type": "code",
   "execution_count": 28,
   "metadata": {},
   "outputs": [],
   "source": [
    "# код здесь ٩(◕‿◕｡)۶"
   ]
  },
  {
   "cell_type": "markdown",
   "metadata": {},
   "source": [
    "10. Отобразите данные о вакансиях, в которых заработная плата выше 200000 долларов США."
   ]
  },
  {
   "cell_type": "code",
   "execution_count": null,
   "metadata": {},
   "outputs": [],
   "source": [
    "# код здесь ʕ ᵔᴥᵔ ʔ"
   ]
  },
  {
   "cell_type": "markdown",
   "metadata": {},
   "source": [
    "11. Создайте новый столбец, в котором размер заработной платы рассчитан в рублях по текущему курсу."
   ]
  },
  {
   "cell_type": "code",
   "execution_count": 29,
   "metadata": {},
   "outputs": [],
   "source": [
    "# код здесь ^⨀ᴥ⨀^"
   ]
  },
  {
   "cell_type": "markdown",
   "metadata": {},
   "source": [
    "12. Создайте новый столбец is_local, который будет иметь значение True, если company_location == employee_residence, и False в противном случае."
   ]
  },
  {
   "cell_type": "code",
   "execution_count": 30,
   "metadata": {},
   "outputs": [],
   "source": [
    "# код здесь ✿˚ ༘ ⋆｡♡˚"
   ]
  },
  {
   "cell_type": "markdown",
   "metadata": {},
   "source": [
    "13. Рассчитайте средние заработные платы для вакансий с различными требованиями к опыту кандидатов."
   ]
  },
  {
   "cell_type": "code",
   "execution_count": 31,
   "metadata": {},
   "outputs": [],
   "source": [
    "# код здесь ∘⋆⋅✯⋅⋆∘"
   ]
  },
  {
   "cell_type": "markdown",
   "metadata": {},
   "source": [
    "14. Рассчитайте минимальные заработные платы для различных должностей для компаний разного размера (в одной таблице). "
   ]
  },
  {
   "cell_type": "code",
   "execution_count": 32,
   "metadata": {},
   "outputs": [],
   "source": [
    "# код здесь (づ๑•ᴗ•๑)づ♡"
   ]
  },
  {
   "cell_type": "markdown",
   "metadata": {},
   "source": [
    "15. Рассчитайте медиану требуемого опыта работы в годах для вакансий в китайских компаниях с требованием уровня образования не ниже магистерского."
   ]
  },
  {
   "cell_type": "code",
   "execution_count": 33,
   "metadata": {},
   "outputs": [],
   "source": [
    "# код здесь ≧◠‿◠≦"
   ]
  },
  {
   "cell_type": "markdown",
   "metadata": {},
   "source": [
    "16. Постройте гистограммы трех различных метрических переменных и опишите их. Столбики первой гистограммы должны быть красного цвета, второй - синего, третьей - зеленого."
   ]
  },
  {
   "cell_type": "code",
   "execution_count": 34,
   "metadata": {},
   "outputs": [],
   "source": [
    "# код здесь ( ੭ ･ᴗ･ )੭"
   ]
  },
  {
   "cell_type": "markdown",
   "metadata": {},
   "source": [
    "17. Постройте диаграмму, демонстрирующую взаимосвязь между размером компании и заработной платой. Добавьте название диаграмме и подписи осям. Обоснуйте выбор диаграммы и прокомментируйте тенденции и взаимосвязи, которые на ней отображены."
   ]
  },
  {
   "cell_type": "code",
   "execution_count": 36,
   "metadata": {},
   "outputs": [],
   "source": [
    "# код здесь ʕ•́ᴥ•̀ʔ"
   ]
  },
  {
   "cell_type": "markdown",
   "metadata": {},
   "source": [
    "18. Постройте ящичковую диаграмму заработной платы. Наблюдаются ли выбросы?"
   ]
  },
  {
   "cell_type": "code",
   "execution_count": 37,
   "metadata": {},
   "outputs": [],
   "source": [
    "# код здесь (*‿*✿) "
   ]
  },
  {
   "cell_type": "markdown",
   "metadata": {},
   "source": [
    "19. Определите топ-5 стран по количеству вакансий. Визуализируйте это с помощью столбчатой диаграммы."
   ]
  },
  {
   "cell_type": "code",
   "execution_count": 38,
   "metadata": {},
   "outputs": [],
   "source": [
    "# код здесь ☆*:.｡.o(≧▽≦)o.｡.:*☆"
   ]
  },
  {
   "cell_type": "markdown",
   "metadata": {},
   "source": [
    "20. Как связаны формат работы и зарплата? Кто получает больше — офисные, гибридные или полностью удалённые работники? Отличаются ли эти тенденции по странам?"
   ]
  },
  {
   "cell_type": "code",
   "execution_count": 39,
   "metadata": {},
   "outputs": [],
   "source": [
    "# код здесь (^◕ᴥ◕^)"
   ]
  },
  {
   "cell_type": "markdown",
   "metadata": {},
   "source": [
    "21. Насколько часто место расположения компании и место проживания сотрудника не совпадают? Влияет ли это на зарплату?"
   ]
  },
  {
   "cell_type": "code",
   "execution_count": 40,
   "metadata": {},
   "outputs": [],
   "source": [
    "# код здесь (⊃｡•́‿•̀｡)⊃━✿✿✿"
   ]
  },
  {
   "cell_type": "markdown",
   "metadata": {},
   "source": [
    "22. Охарактеризуйте распределение требуемого опыта работы для каждой профессии."
   ]
  },
  {
   "cell_type": "code",
   "execution_count": 41,
   "metadata": {},
   "outputs": [],
   "source": [
    "# код здесь  (◔/‿\\◔)"
   ]
  },
  {
   "cell_type": "markdown",
   "metadata": {},
   "source": [
    "23. Есть ли взаимосвязь между числом символов в описании вакансии и зарплатой?"
   ]
  },
  {
   "cell_type": "code",
   "execution_count": 42,
   "metadata": {},
   "outputs": [],
   "source": [
    "# код здесь (✧≖‿ゝ≖)"
   ]
  },
  {
   "cell_type": "markdown",
   "metadata": {},
   "source": [
    "24. Визуализируйте распределение вакансий по месяцам (posting_date). Какие тенденции наблюдаются?"
   ]
  },
  {
   "cell_type": "code",
   "execution_count": 43,
   "metadata": {},
   "outputs": [],
   "source": [
    "# код здесь ──☆*"
   ]
  },
  {
   "cell_type": "markdown",
   "metadata": {},
   "source": [
    "25. Рассчитайте временную разницу между posting_date и application_deadline. Влияет ли она на зарплату?"
   ]
  },
  {
   "cell_type": "code",
   "execution_count": 44,
   "metadata": {},
   "outputs": [],
   "source": [
    "# код здесь (✿◠‿◠)"
   ]
  },
  {
   "cell_type": "markdown",
   "metadata": {},
   "source": [
    "26. Как сочетаются education_required и years_experience? Требуется ли больше лет опыта при меньшем образовании?"
   ]
  },
  {
   "cell_type": "code",
   "execution_count": 45,
   "metadata": {},
   "outputs": [],
   "source": [
    "# код здесь (o˘◡˘o)"
   ]
  },
  {
   "cell_type": "markdown",
   "metadata": {},
   "source": [
    "27. Опишите профиль вакансий с самыми высокими заработными платами (самостоятельно установите критерии отнесения зарплат к высоким). Что наиболее востребовано на таких вакансиях? Отличаются ли требования к кандидатам с самыми высокими зарплатами по странам?"
   ]
  },
  {
   "cell_type": "code",
   "execution_count": 46,
   "metadata": {},
   "outputs": [],
   "source": [
    "# код здесь  (￣▽￣)/♫•*¨*•.¸¸♪ "
   ]
  },
  {
   "cell_type": "markdown",
   "metadata": {},
   "source": [
    "**Комментарии к заданию и принципам его оценивания:**\n",
    "\n",
    " - Все пункты задания должны сопровождаться _выполненным_ фрагментом кода.\n",
    " - Если Вы получили результаты в виде статистических показателей, таблиц или графиков, при этом никак их не прокомментировали и не сформулировали содержательные выводы на их основе, то работа оценивается в 0 баллов, в этом случае анализ данных не проведён.\n",
    " - Если Вы полностью выполнили это задание, то получаете за него 8 баллов (отлично). Для получения более высокой оценки нужно выйти за рамки предложенного задания. В случае с текущим заданием это может быть дополнительное самостоятельное изучение инструментов описательного анализа и их применение, или развернутое и глубокое исследование имеющихся данных на основе использования пройденных на занятиях инструментов.\n",
    " - Задание можно выполнять индивидуально или в группе из 2 человек, критерии оценивания при этом не меняются;\n",
    " - В названии загружаемого в Smart LMS файла нужно указать фамилию(ии) автора(ов) работы."
   ]
  },
  {
   "cell_type": "markdown",
   "metadata": {},
   "source": [
    "### Этот файл нужно сохранить как Jupyter Notebook (.ipynb) и загрузить в Smart LMS до 23:55 30 сентября.\n",
    "\n",
    "- При сдаче работы до 23:55 1 октября вычитается 1 балл из итоговой оценки. \n",
    "- При сдаче работы до 23:55 2 октября вычитаются 2 балла из итоговой оценки. \n",
    "- После **23:55 2 октября** работа не принимается."
   ]
  }
 ],
 "metadata": {
  "kernelspec": {
   "display_name": "Python 3 (ipykernel)",
   "language": "python",
   "name": "python3"
  },
  "language_info": {
   "codemirror_mode": {
    "name": "ipython",
    "version": 3
   },
   "file_extension": ".py",
   "mimetype": "text/x-python",
   "name": "python",
   "nbconvert_exporter": "python",
   "pygments_lexer": "ipython3",
   "version": "3.11.5"
  }
 },
 "nbformat": 4,
 "nbformat_minor": 4
}
